{
 "cells": [
  {
   "cell_type": "markdown",
   "metadata": {},
   "source": [
    "# PROJECT TUGAS AKHIR STKI"
   ]
  },
  {
   "cell_type": "markdown",
   "metadata": {},
   "source": [
    "### 1. Judul Tugas Akhir dan Identitas Lengkap: "
   ]
  },
  {
   "cell_type": "markdown",
   "metadata": {},
   "source": [
    "- **Judul**     : Sistem Rekomendasi Film berdasarkan Film yang Sebelumnya Ditonton\n",
    "- **Nama**      : Muhammad Fatah Abiyyu Riadi\n",
    "- **NIM**       : A11.2022.14409\n",
    "- **Kelompok**  : A11.4701"
   ]
  },
  {
   "cell_type": "markdown",
   "metadata": {},
   "source": [
    "### 2.  Ringkasan dan Pemasalahan Project"
   ]
  },
  {
   "cell_type": "markdown",
   "metadata": {},
   "source": [
    "**Ringkasan** :\n",
    "Sistem ini bertujuan untuk merekomendasikan anime kepada pengguna berdasarkan film yang telah mereka tonton sebelumnya. Sistem ini menggunakan content-based filtering untuk merekomendasikan film berdasarkan kesamaan konten, yaitu dengan menggabungkan informasi dari kolom 'overview' dan 'genre' untk membuat fitur baru yang disebut 'tags'"
   ]
  },
  {
   "cell_type": "markdown",
   "metadata": {},
   "source": [
    "**Permasalahan** :\n",
    "Rekomendasi yang dihasilkan hanya berdasarkan konten film (overview dan genre) tanpa mempertimbangkan preferensi atau rating pengguna.\n",
    "Pengguna mungkin tidak menemukan rekomendasi yang sesuai dengan selera pribadi mereka, terutama jika mereka memiliki preferensi yang berbeda dari konten yang ada"
   ]
  },
  {
   "cell_type": "markdown",
   "metadata": {},
   "source": [
    "#### Tujuan yang akan dicapai :\n",
    "- **1**. Menemukan film yang menarik\n",
    "- **2**. Mendapat rekomendasi yang relevan\n",
    "- **3**. Menghemat waktu mencari film yang sesuai\n",
    "- **4**. Menjelajahi film baru"
   ]
  },
  {
   "cell_type": "markdown",
   "metadata": {},
   "source": [
    "#### Model/Alur Penyelesaian :\n",
    "##### Bagian Alur\n",
    "-  Import Dataset\n",
    "-  Preprocessing (cek missing values, drop missing values, merge kolom, text vectorization)\n",
    "-  Model Development : (membuat representasi data, menghitung matrix kesamaan, simpan model)\n",
    "-  Evaluasi dan Output\n",
    "\n",
    "-  Input Data -> Preprocessing -> Feature Extraction -> Train Model -> Evaluasi -> Output"
   ]
  },
  {
   "cell_type": "markdown",
   "metadata": {},
   "source": [
    "### 3. Penjelasan Dataset, EDA, dan Features Dataset"
   ]
  },
  {
   "cell_type": "markdown",
   "metadata": {},
   "source": [
    "**Dataset** :\n",
    "- Sumber data: dataset ini diperoleh dari https://www.kaggle.com/datasets/ahsanaseer/top-rated-tmdb-movies-10k\n",
    "- Dataset ini awalnya memiliki 10.000 baris data, tetapi saya reduce menjadi 1.500 supaya data picklenya nanti tidak berukuran terlalu besar\n",
    "- Kolom -kolom yang ada di dalam dataset ini adalah:\n",
    "  - 'id'\n",
    "  - 'title'\n",
    "  - 'overview'\n",
    "  - 'genre'\n",
    "  - 'original_language'\n",
    "  - 'popularity'\n",
    "  - 'release_date'\n",
    "  - 'vote_average'\n",
    "  - 'vote_count'\n",
    "\n",
    "**EDA** :\n",
    "- Membaca dataset\n",
    "- Menampilkan data awal\n",
    "- Melihat deskripsi data\n",
    "- Informasi tentang data\n",
    "- Periksa nilai hilang\n",
    "- Pemilihan kolom penting\n",
    "- Membuat kolom tags\n",
    "\n",
    "**Features Dataset** :\n",
    "  - 'id' : ID untuk setiap film\n",
    "  - 'title' : Judul\n",
    "  - 'overview' : Ringkasan singkat tentang film\n",
    "  - 'genre' : Genre film\n",
    "  - 'original_language' : Bahasa asli film\n",
    "  - 'popularity' : Skor Popularitas\n",
    "  - 'release_date' : Tanggal rilis film\n",
    "  - 'vote_average' : Rata-rata skor film\n",
    "  - 'vote_count' : Jumlah skor film"
   ]
  },
  {
   "cell_type": "markdown",
   "metadata": {},
   "source": [
    "### 4. Proses Learning/Modelling"
   ]
  },
  {
   "cell_type": "markdown",
   "metadata": {},
   "source": [
    "**Vectorization** :\n",
    "Menggunakan 'CountVectorizer' dari 'sklearn' untuk mengubah teks dalam kolom 'tags' menjadi representasi numerik (vektor) yang dapat digunakan dalam model.\n",
    "\n",
    "**Menghitung Similarity** :\n",
    "Menggunakan 'cosine_similarity' untuk menghitung kemiripan antar film berdasarkan vektor yang dihasilkan\n",
    "\n",
    "**Simpan model di pickle** :\n",
    "Menggunakan 'pickle' untuk menyimpan dataset dan matriks similarity ke dalam file.\n",
    "\n",
    "Proses ini mencakup eksplorasi data, cleaning data, transform data, dan pembuatan model rekomendasi berbasis konten menggunakan teknik machine learning"
   ]
  },
  {
   "cell_type": "markdown",
   "metadata": {},
   "source": [
    "### 5. Performa Model"
   ]
  },
  {
   "cell_type": "markdown",
   "metadata": {},
   "source": [
    "**Matriks Similarity** : \n",
    "Model menghitung kemiripan antar film menggunakan 'cosine_similarity' yang menghasilkan matriks kemiripan. Nilai dalam matriks ini berkisar antara 0 (tidak mirip) hingga 1 (sangat mirip)\n",
    "\n",
    "**Kualitas Rekomendasi** :\n",
    "Kualitas rekomendasi dapat dievaluasi berdasarkan relevansi film yang direkomendasikan. Jika film yang direkomendasikan sesuai dengan preferensi pengguna, maka model dapat dianggap efektif"
   ]
  },
  {
   "cell_type": "markdown",
   "metadata": {},
   "source": [
    "### 6. Hasil dan Kesimpulan"
   ]
  },
  {
   "cell_type": "markdown",
   "metadata": {},
   "source": [
    "**Hasil** :\n",
    "- Data yang diolah :\n",
    "  - Dataset berisi 10.000, kemudian saya reduce menjadi 1.500 film dengan berbagai fitur\n",
    "  - Setelah diolah, hanya beberapa kolom yang digunakan ('id','title','overview','genre','tags')\n",
    "- Pembuatan fitur :\n",
    "  - Kolom 'tags' berhasil dibuat dengan menggabungkan informasi dari 'overview' dan 'genre', yang digunakan untuk analisis lebih lanjut\n",
    "- Vectorization :\n",
    "  - Menggunakan 'CountVectorizer, teks didalam kolom 'tags' diubah menjadi representasi numerik, menghasilkan matriks fitur dengan ukuran (1.500, 1.500)\n",
    "- Matriks Similarity :\n",
    "  - Matriks kemiripan dihitung menggunakan 'cosine_similarity', yang memungkinkan model untuk menentukan seberapa mirip satu film dengan film lainnya\n",
    "- Rekomendasi film :\n",
    "  - Model berhasil memberikan rekomendasi film yang relevan berdasarkan kemiripan konten. Contoh rekomendasi untuk film \"Piranhas\" termasuk \"Gummo\" dan \"Mean Creek\"\n",
    "\n",
    "**Kesimpulan** : \n",
    "- Efektivitas Model:\n",
    "  - Model rekomendasi berbasis konten ini menunjukkan kemampuan yang baik dalam memberikan rekomendasi film yang relevan berdasarkan deskripsi dan genre. Ini menunjukkan bahwa pendekatan berbasis konten dapat efektif dalam konteks rekomendasi film.\n",
    "- Keterbatasan:\n",
    "  - Meskipun model memberikan rekomendasi yang baik, ada keterbatasan dalam hal fitur yang digunakan. Model ini tidak mempertimbangkan faktor lain seperti rating pengguna atau popularitas film, yang dapat mempengaruhi preferensi pengguna.\n",
    "- Rekomendasi untuk Pengembangan Selanjutnya:\n",
    "  - Untuk meningkatkan performa model, dapat dipertimbangkan untuk menggabungkan data tambahan seperti rating pengguna, jumlah penonton, atau menggunakan teknik pembelajaran mesin yang lebih kompleks seperti model berbasis kolaboratif filtering.\n",
    "  - Pengujian lebih lanjut dengan pengguna nyata diperlukan untuk mengevaluasi kepuasan pengguna terhadap rekomendasi yang diberikan."
   ]
  }
 ],
 "metadata": {
  "kernelspec": {
   "display_name": "ProjectAkhirSTKI",
   "language": "python",
   "name": "python3"
  },
  "language_info": {
   "codemirror_mode": {
    "name": "ipython",
    "version": 3
   },
   "file_extension": ".py",
   "mimetype": "text/x-python",
   "name": "python",
   "nbconvert_exporter": "python",
   "pygments_lexer": "ipython3",
   "version": "3.12.6"
  }
 },
 "nbformat": 4,
 "nbformat_minor": 2
}
